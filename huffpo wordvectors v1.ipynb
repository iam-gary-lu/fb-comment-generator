{
 "cells": [
  {
   "cell_type": "code",
   "execution_count": 6,
   "metadata": {},
   "outputs": [],
   "source": [
    "import json\n",
    "import os\n",
    "import time\n",
    "from gensim.models import KeyedVectors \n",
    "from gensim.test.utils import get_tmpfile\n",
    "from gensim.models import Word2Vec"
   ]
  },
  {
   "cell_type": "code",
   "execution_count": 4,
   "metadata": {},
   "outputs": [],
   "source": [
    "with open('huffpo_train_datav0.json') as f:\n",
    "    data = json.load(f)\n"
   ]
  },
  {
   "cell_type": "code",
   "execution_count": 16,
   "metadata": {},
   "outputs": [
    {
     "name": "stdout",
     "output_type": "stream",
     "text": [
      "elapsed time: 3201.359443664551\n"
     ]
    }
   ],
   "source": [
    "start = time.time()\n",
    "model = Word2Vec(data, min_count=10, size=300, workers=28, window=5, iter=30)\n",
    "print('elapsed time: '+str(time.time() - start))\n",
    "\n",
    "\n",
    "path = get_tmpfile(\"huffpo_vectsv2.kv\")\n",
    "\n",
    "mod_path = get_tmpfile(\"huffpov2.model\")\n",
    "model.save(\"huffpov2.model\")\n",
    "model.save(path)\n",
    "model.wv.save(path)"
   ]
  },
  {
   "cell_type": "code",
   "execution_count": 14,
   "metadata": {},
   "outputs": [],
   "source": [
    "huffpo_wv = KeyedVectors.load(\"huffpov1.model\",mmap='r')"
   ]
  },
  {
   "cell_type": "code",
   "execution_count": 15,
   "metadata": {},
   "outputs": [
    {
     "data": {
      "text/plain": [
       "gensim.models.word2vec.Word2Vec"
      ]
     },
     "execution_count": 15,
     "metadata": {},
     "output_type": "execute_result"
    }
   ],
   "source": [
    "type(huffpo_wv)"
   ]
  },
  {
   "cell_type": "code",
   "execution_count": 17,
   "metadata": {},
   "outputs": [
    {
     "data": {
      "text/plain": [
       "53.355990727742515"
      ]
     },
     "execution_count": 17,
     "metadata": {},
     "output_type": "execute_result"
    }
   ],
   "source": [
    "3201.359443664551 /60"
   ]
  },
  {
   "cell_type": "code",
   "execution_count": 18,
   "metadata": {},
   "outputs": [],
   "source": [
    "wv = KeyedVectors.load(\"huffpov2.model\", mmap='r')"
   ]
  },
  {
   "cell_type": "code",
   "execution_count": 26,
   "metadata": {},
   "outputs": [
    {
     "name": "stderr",
     "output_type": "stream",
     "text": [
      "/home/dl-one/anaconda3/envs/py36/lib/python3.6/site-packages/gensim/matutils.py:737: FutureWarning: Conversion of the second argument of issubdtype from `int` to `np.signedinteger` is deprecated. In future, it will be treated as `np.int64 == np.dtype(int).type`.\n",
      "  if np.issubdtype(vec.dtype, np.int):\n"
     ]
    },
    {
     "data": {
      "text/plain": [
       "[('drumpf', 0.8482277393341064),\n",
       " ('45', 0.8094817399978638),\n",
       " ('dt', 0.7940332293510437),\n",
       " ('djt', 0.6841045022010803),\n",
       " ('obama', 0.671724796295166),\n",
       " ('he', 0.6540875434875488),\n",
       " ('chump', 0.6399922966957092),\n",
       " ('trumpf', 0.6379001140594482),\n",
       " ('hillary', 0.6337659358978271),\n",
       " ('putin', 0.6206005811691284),\n",
       " ('rump', 0.6162979006767273),\n",
       " ('trumputin', 0.6053763031959534),\n",
       " ('drump', 0.6038532257080078),\n",
       " ('drumph', 0.5997932553291321),\n",
       " ('romney', 0.5914912223815918)]"
      ]
     },
     "execution_count": 26,
     "metadata": {},
     "output_type": "execute_result"
    }
   ],
   "source": [
    "wv.wv.most_similar(\"trump\", topn=15)"
   ]
  },
  {
   "cell_type": "code",
   "execution_count": 32,
   "metadata": {},
   "outputs": [
    {
     "name": "stderr",
     "output_type": "stream",
     "text": [
      "/home/dl-one/anaconda3/envs/py36/lib/python3.6/site-packages/gensim/matutils.py:737: FutureWarning: Conversion of the second argument of issubdtype from `int` to `np.signedinteger` is deprecated. In future, it will be treated as `np.int64 == np.dtype(int).type`.\n",
      "  if np.issubdtype(vec.dtype, np.int):\n"
     ]
    },
    {
     "data": {
      "text/plain": [
       "[('drumpf', 0.6865514516830444),\n",
       " ('trump', 0.639992356300354),\n",
       " ('dotard', 0.5895705223083496),\n",
       " ('dt', 0.5768651962280273),\n",
       " ('45', 0.5707950592041016),\n",
       " ('trumpster', 0.5641752481460571),\n",
       " ('dump', 0.5529694557189941),\n",
       " ('drump', 0.5521456003189087),\n",
       " ('trumpy', 0.5482745170593262),\n",
       " ('drumph', 0.5455871224403381),\n",
       " ('rump', 0.5365781188011169),\n",
       " ('trumpet', 0.5338823199272156),\n",
       " ('donnie', 0.5325950384140015),\n",
       " ('frump', 0.5235397219657898),\n",
       " ('cheeto', 0.5191116333007812)]"
      ]
     },
     "execution_count": 32,
     "metadata": {},
     "output_type": "execute_result"
    }
   ],
   "source": [
    "wv.wv.most_similar(\"chump\", topn=15)"
   ]
  },
  {
   "cell_type": "code",
   "execution_count": 27,
   "metadata": {},
   "outputs": [
    {
     "name": "stderr",
     "output_type": "stream",
     "text": [
      "/home/dl-one/anaconda3/envs/py36/lib/python3.6/site-packages/gensim/matutils.py:737: FutureWarning: Conversion of the second argument of issubdtype from `int` to `np.signedinteger` is deprecated. In future, it will be treated as `np.int64 == np.dtype(int).type`.\n",
      "  if np.issubdtype(vec.dtype, np.int):\n"
     ]
    },
    {
     "data": {
      "text/plain": [
       "[('potus', 0.9015293717384338),\n",
       " ('pres', 0.8270610570907593),\n",
       " ('prez', 0.7878944873809814),\n",
       " ('leader', 0.665168821811676),\n",
       " ('presidency', 0.6387972831726074),\n",
       " ('nominee', 0.5790338516235352),\n",
       " ('dictator', 0.574533224105835),\n",
       " ('candidate', 0.5670672059059143),\n",
       " ('presidents', 0.5648777484893799),\n",
       " ('administration', 0.5594768524169922)]"
      ]
     },
     "execution_count": 27,
     "metadata": {},
     "output_type": "execute_result"
    }
   ],
   "source": [
    "wv.wv.most_similar(\"president\")"
   ]
  },
  {
   "cell_type": "code",
   "execution_count": null,
   "metadata": {},
   "outputs": [],
   "source": []
  }
 ],
 "metadata": {
  "kernelspec": {
   "display_name": "py36",
   "language": "python",
   "name": "py36"
  },
  "language_info": {
   "codemirror_mode": {
    "name": "ipython",
    "version": 3
   },
   "file_extension": ".py",
   "mimetype": "text/x-python",
   "name": "python",
   "nbconvert_exporter": "python",
   "pygments_lexer": "ipython3",
   "version": "3.6.8"
  }
 },
 "nbformat": 4,
 "nbformat_minor": 2
}
