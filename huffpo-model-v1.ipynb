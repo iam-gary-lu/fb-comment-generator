{
 "cells": [
  {
   "cell_type": "markdown",
   "metadata": {},
   "source": [
    "re"
   ]
  },
  {
   "cell_type": "code",
   "execution_count": 1,
   "metadata": {},
   "outputs": [
    {
     "name": "stderr",
     "output_type": "stream",
     "text": [
      "Using TensorFlow backend.\n"
     ]
    }
   ],
   "source": [
    "import json\n",
    "import os\n",
    "import time\n",
    "import pandas as pd\n",
    "from gensim.models import KeyedVectors \n",
    "from gensim.test.utils import get_tmpfile\n",
    "from gensim.models import Word2Vec\n",
    "\n",
    "import numpy as np\n",
    "from numpy import array\n",
    "from keras.preprocessing.text import Tokenizer\n",
    "from keras.utils import to_categorical\n",
    "from keras.preprocessing.sequence import pad_sequences\n",
    "from keras.models import Sequential\n",
    "from keras.layers import Dense\n",
    "from keras.layers import LSTM\n",
    "from keras.layers import Embedding\n",
    "\n",
    "huffpo_wv = KeyedVectors.load(\"huffpov1.model\",mmap='r')\n",
    "with open(\"huffpo_train<20.json\") as f:\n",
    "    maxlen_data=json.load(f)"
   ]
  },
  {
   "cell_type": "code",
   "execution_count": null,
   "metadata": {},
   "outputs": [],
   "source": [
    "train_batch = maxlen_data[:100]\n",
    "\n",
    "t = Tokenizer()\n",
    "t.fit_on_texts(train_batch)\n",
    "\n",
    "batch_sz = 5\n",
    "#vocab_sz = len(huffpo_wv.wv.vocab)\n",
    "vocab_sz = len(t.word_index)+1\n",
    "int_encoded = t.texts_to_sequences(train_batch)\n",
    "sequences = list()\n",
    "error_count = 0\n",
    "no_embedding_error = 0\n",
    "\n",
    "for comment in train_batch:\n",
    "    \n",
    "    try:        \n",
    "        comment_vect = list(map(lambda x: huffpo_wv.wv.get_vector(x) ,comment ))        \n",
    "        for i in range(1, len(comment_vect)):\n",
    "            sequence = comment_vect[:i+1]\n",
    "            sequences.append(sequence)\n",
    "    except KeyError: #lazy workaround for now. Not sure why some words aren't showing up in dict \n",
    "        error_count +=1\n",
    "        #print('got keyerror for', comment)\n",
    "        pass\n",
    "    \n",
    "    \n",
    "    \n",
    "    \n",
    "max_len = max([len(seq) for seq in sequences])\n",
    "sequences = pad_sequences(sequences, dtype='float32',maxlen=max_len, padding='pre')\n",
    "\n",
    "embedding_matrix = np.zeros((vocab_sz,300))\n",
    "for word, i in t.word_index.items():\n",
    "    try:\n",
    "        word_embedding = huffpo_wv.wv.get_vector(word)\n",
    "        embedding_matrix[i] = word_embedding\n",
    "    except KeyError:\n",
    "        no_embedding_error +=1\n",
    "        print('no embedding for: ',word)\n",
    "        pass\n",
    "            \n",
    "X, y = sequences[:,:-1], sequences[:,-1]\n"
   ]
  },
  {
   "cell_type": "code",
   "execution_count": null,
   "metadata": {},
   "outputs": [],
   "source": []
  },
  {
   "cell_type": "code",
   "execution_count": null,
   "metadata": {},
   "outputs": [],
   "source": []
  }
 ],
 "metadata": {
  "kernelspec": {
   "display_name": "py36",
   "language": "python",
   "name": "py36"
  },
  "language_info": {
   "codemirror_mode": {
    "name": "ipython",
    "version": 3
   },
   "file_extension": ".py",
   "mimetype": "text/x-python",
   "name": "python",
   "nbconvert_exporter": "python",
   "pygments_lexer": "ipython3",
   "version": "3.6.8"
  }
 },
 "nbformat": 4,
 "nbformat_minor": 2
}
