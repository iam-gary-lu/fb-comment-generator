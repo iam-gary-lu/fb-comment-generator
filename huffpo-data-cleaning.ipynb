{
 "cells": [
  {
   "cell_type": "code",
   "execution_count": 2,
   "metadata": {},
   "outputs": [
    {
     "name": "stderr",
     "output_type": "stream",
     "text": [
      "Using TensorFlow backend.\n"
     ]
    }
   ],
   "source": [
    "import json\n",
    "import pickle\n",
    "import numpy as np\n",
    "from numpy import array\n",
    "from keras.preprocessing.text import Tokenizer\n",
    "from keras.preprocessing.text import text_to_word_sequence\n",
    "from keras.preprocessing.sequence import pad_sequences \n",
    "\n",
    "import time\n",
    "from nltk.tokenize import word_tokenize\n",
    "\n",
    "from nltk.tokenize import word_tokenize\n",
    "from nltk.corpus import stopwords\n",
    "\n",
    "stopset = set(stopwords.words('english'))\n",
    "\n",
    "import pandas as pd\n",
    "import tensorflow as tf\n",
    "from keras import backend as K\n",
    "config = tf.ConfigProto()\n",
    "config.gpu_options.allow_growth = True\n",
    "session = tf.Session(config=config)\n",
    "K.set_session(session)"
   ]
  },
  {
   "cell_type": "code",
   "execution_count": 4,
   "metadata": {},
   "outputs": [],
   "source": [
    "hp_data = pd.read_csv('hp_all_comments.csv')\n",
    "hp_data.comment=hp_data.comment.astype(str)"
   ]
  },
  {
   "cell_type": "code",
   "execution_count": 15,
   "metadata": {},
   "outputs": [],
   "source": [
    "all_data = hp_data['comment'][:1000000]\n",
    "\n",
    "TOP_N = 1000\n",
    "hp_tok = Tokenizer(num_words = TOP_N, oov_token='<unk>')\n",
    "hp_tok.fit_on_texts(all_data)"
   ]
  },
  {
   "cell_type": "code",
   "execution_count": 16,
   "metadata": {},
   "outputs": [
    {
     "data": {
      "text/plain": [
       "285460"
      ]
     },
     "execution_count": 16,
     "metadata": {},
     "output_type": "execute_result"
    }
   ],
   "source": [
    "len(hp_tok.word_index) #vocab is too large!"
   ]
  },
  {
   "cell_type": "code",
   "execution_count": 17,
   "metadata": {},
   "outputs": [],
   "source": [
    "top_words = sorted(hp_tok.word_counts.items(), key=lambda x:x[1])[::-1][:TOP_N]"
   ]
  },
  {
   "cell_type": "code",
   "execution_count": 18,
   "metadata": {},
   "outputs": [],
   "source": [
    "mini_word_dict = {} #{word : word_freq}\n",
    "for word in top_words:\n",
    "    mini_word_dict[word[0]] = word[1]\n",
    "\n",
    "\n",
    "\n"
   ]
  },
  {
   "cell_type": "markdown",
   "metadata": {},
   "source": [
    "\"\"\"\n",
    "below code too slow!\n",
    "\"\"\"\n",
    "new_data = []\n",
    "for orig_comment in all_data:\n",
    "    new_comment = []\n",
    "    for word in text_to_word_sequence(orig_comment):\n",
    "        if word not in top_words:\n",
    "            new_comment.extend('<oov>')\n",
    "        else:\n",
    "            new_comment.extend(word)\n",
    "    new_data.append(new_comment)"
   ]
  },
  {
   "cell_type": "code",
   "execution_count": 11,
   "metadata": {},
   "outputs": [],
   "source": [
    "def transform_text(old_comment, word_dict):\n",
    "    tokenized = text_to_word_sequence(old_comment)\n",
    "    new_comment = ''\n",
    "    for word in tokenized:\n",
    "        if word not in word_dict:\n",
    "            new_comment = new_comment + ' <oov> '\n",
    "        else:\n",
    "            new_comment = new_comment+ ' '+word+ ' '\n",
    "    return new_comment"
   ]
  },
  {
   "cell_type": "code",
   "execution_count": 12,
   "metadata": {},
   "outputs": [
    {
     "data": {
      "text/plain": [
       "' <oov>  <oov>  that  <oov>  the  hell  out  of  me  christians  what  bible  are  they  reading '"
      ]
     },
     "execution_count": 12,
     "metadata": {},
     "output_type": "execute_result"
    }
   ],
   "source": [
    "transform_text(all_data[0],mini_word_dict)"
   ]
  },
  {
   "cell_type": "code",
   "execution_count": 19,
   "metadata": {},
   "outputs": [
    {
     "name": "stdout",
     "output_type": "stream",
     "text": [
      "elasped time: 16.258278131484985\n"
     ]
    }
   ],
   "source": [
    "from functools import partial\n",
    "\n",
    "start = time.time()\n",
    "mapfunc = partial(transform_text, word_dict=mini_word_dict)\n",
    "new_all_data= list(map(mapfunc, all_data))\n",
    "print('elasped time: {}'.format(time.time()-start))"
   ]
  },
  {
   "cell_type": "code",
   "execution_count": 20,
   "metadata": {},
   "outputs": [],
   "source": [
    "\n",
    "with open('clean_hp_1k_comments.json', 'w') as outfile:\n",
    "    json.dump(new_all_data, outfile)"
   ]
  },
  {
   "cell_type": "code",
   "execution_count": null,
   "metadata": {},
   "outputs": [],
   "source": []
  }
 ],
 "metadata": {
  "kernelspec": {
   "display_name": "py36",
   "language": "python",
   "name": "py36"
  },
  "language_info": {
   "codemirror_mode": {
    "name": "ipython",
    "version": 3
   },
   "file_extension": ".py",
   "mimetype": "text/x-python",
   "name": "python",
   "nbconvert_exporter": "python",
   "pygments_lexer": "ipython3",
   "version": "3.6.8"
  }
 },
 "nbformat": 4,
 "nbformat_minor": 2
}
